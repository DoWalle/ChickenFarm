{
 "cells": [
  {
   "cell_type": "code",
   "execution_count": 22,
   "metadata": {},
   "outputs": [],
   "source": [
    "import pandas as pd\n",
    "\n",
    "from chinese_calendar import is_workday\n",
    "from datetime import datetime, timedelta\n",
    "\n",
    "from apollo.src.model_db.tbl_total_for_field import TotalForField\n",
    "from apollo.src.model_db.tbl_depository import DepositoryTable\n",
    "from apollo.src.model_prof.fund_types import Filed\n",
    "\n",
    "from apollo.src.service.aip_service import invest_week \n",
    "\n"
   ]
  },
  {
   "cell_type": "code",
   "execution_count": 2,
   "metadata": {},
   "outputs": [
    {
     "name": "stderr",
     "output_type": "stream",
     "text": [
      "2021-08-10 22:22:33 - aip_service.py - 29 - INFO: 易方达蓝筹精选混合\n",
      "2021-08-10 22:22:33 - aip_service.py - 39 - WARNING: Repair trading day, start:2020-08-04 00:00:00 end:2021-08-03 00:00:00\n",
      "2021-08-10 22:22:33 - aip_service.py - 59 - INFO: 每周 1 定投，累计投入 4700 单位金额，最终卖出 4483.31 单位金额，收益率 -4.61% ;\n",
      "2021-08-10 22:22:33 - aip_service.py - 59 - INFO: 每周 2 定投，累计投入 4900 单位金额，最终卖出 4662.76 单位金额，收益率 -4.84% ;\n",
      "2021-08-10 22:22:33 - aip_service.py - 59 - INFO: 每周 3 定投，累计投入 4900 单位金额，最终卖出 4663.98 单位金额，收益率 -4.82% ;\n",
      "2021-08-10 22:22:33 - aip_service.py - 59 - INFO: 每周 4 定投，累计投入 4900 单位金额，最终卖出 4628.33 单位金额，收益率 -5.54% ;\n",
      "2021-08-10 22:22:33 - aip_service.py - 59 - INFO: 每周 5 定投，累计投入 4900 单位金额，最终卖出 4655.94 单位金额，收益率 -4.9799999999999995% ;\n"
     ]
    },
    {
     "data": {
      "text/plain": [
       "[-0.0461, -0.0484, -0.0482, -0.0554, -0.0498]"
      ]
     },
     "execution_count": 2,
     "metadata": {},
     "output_type": "execute_result"
    }
   ],
   "source": [
    "res = invest_week('005827', '2020-08-04', '2021-08-03', 100)\n",
    "res"
   ]
  },
  {
   "cell_type": "code",
   "execution_count": 3,
   "metadata": {},
   "outputs": [
    {
     "name": "stdout",
     "output_type": "stream",
     "text": [
      "2021-08-13 00:00:00\n",
      "True\n"
     ]
    }
   ],
   "source": [
    "# 得到当前日期是否为股票交易日\n",
    "def is_trade_day(date):\n",
    "    if is_workday(date):\n",
    "        if date.isoweekday() < 6:\n",
    "            return True\n",
    "    return False\n",
    " \n",
    " \n",
    "date = '2021-08-13'\n",
    "date = datetime.strptime(date, '%Y-%m-%d')\n",
    "print(date)\n",
    " \n",
    "print(is_trade_day(date))"
   ]
  },
  {
   "cell_type": "code",
   "execution_count": 17,
   "metadata": {},
   "outputs": [
    {
     "data": {
      "text/html": [
       "<div>\n",
       "<style scoped>\n",
       "    .dataframe tbody tr th:only-of-type {\n",
       "        vertical-align: middle;\n",
       "    }\n",
       "\n",
       "    .dataframe tbody tr th {\n",
       "        vertical-align: top;\n",
       "    }\n",
       "\n",
       "    .dataframe thead th {\n",
       "        text-align: right;\n",
       "    }\n",
       "</style>\n",
       "<table border=\"1\" class=\"dataframe\">\n",
       "  <thead>\n",
       "    <tr style=\"text-align: right;\">\n",
       "      <th></th>\n",
       "      <th>a</th>\n",
       "      <th>b</th>\n",
       "      <th>c</th>\n",
       "    </tr>\n",
       "  </thead>\n",
       "  <tbody>\n",
       "  </tbody>\n",
       "</table>\n",
       "</div>"
      ],
      "text/plain": [
       "Empty DataFrame\n",
       "Columns: [a, b, c]\n",
       "Index: []"
      ]
     },
     "execution_count": 17,
     "metadata": {},
     "output_type": "execute_result"
    }
   ],
   "source": [
    "df = pd.DataFrame(columns=['a', 'b', 'c'])\n",
    "df"
   ]
  },
  {
   "cell_type": "code",
   "execution_count": 26,
   "metadata": {},
   "outputs": [
    {
     "data": {
      "text/html": [
       "<div>\n",
       "<style scoped>\n",
       "    .dataframe tbody tr th:only-of-type {\n",
       "        vertical-align: middle;\n",
       "    }\n",
       "\n",
       "    .dataframe tbody tr th {\n",
       "        vertical-align: top;\n",
       "    }\n",
       "\n",
       "    .dataframe thead th {\n",
       "        text-align: right;\n",
       "    }\n",
       "</style>\n",
       "<table border=\"1\" class=\"dataframe\">\n",
       "  <thead>\n",
       "    <tr style=\"text-align: right;\">\n",
       "      <th></th>\n",
       "      <th>a</th>\n",
       "      <th>b</th>\n",
       "      <th>c</th>\n",
       "    </tr>\n",
       "  </thead>\n",
       "  <tbody>\n",
       "    <tr>\n",
       "      <th>0</th>\n",
       "      <td>1.0</td>\n",
       "      <td>NaN</td>\n",
       "      <td>3.0</td>\n",
       "    </tr>\n",
       "    <tr>\n",
       "      <th>1</th>\n",
       "      <td>1.0</td>\n",
       "      <td>NaN</td>\n",
       "      <td>3.0</td>\n",
       "    </tr>\n",
       "    <tr>\n",
       "      <th>2</th>\n",
       "      <td>1.0</td>\n",
       "      <td>NaN</td>\n",
       "      <td>3.0</td>\n",
       "    </tr>\n",
       "    <tr>\n",
       "      <th>3</th>\n",
       "      <td>1.0</td>\n",
       "      <td>NaN</td>\n",
       "      <td>3.0</td>\n",
       "    </tr>\n",
       "  </tbody>\n",
       "</table>\n",
       "</div>"
      ],
      "text/plain": [
       "     a   b    c\n",
       "0  1.0 NaN  3.0\n",
       "1  1.0 NaN  3.0\n",
       "2  1.0 NaN  3.0\n",
       "3  1.0 NaN  3.0"
      ]
     },
     "execution_count": 26,
     "metadata": {},
     "output_type": "execute_result"
    }
   ],
   "source": [
    "df = df.append({'a':1,'c':3}, ignore_index=True)\n",
    "df"
   ]
  },
  {
   "cell_type": "code",
   "execution_count": 23,
   "metadata": {},
   "outputs": [
    {
     "data": {
      "text/plain": [
       "['2021-02-23',\n",
       " '2021-02-24',\n",
       " '2021-02-25',\n",
       " '2021-02-26',\n",
       " '2021-02-27',\n",
       " '2021-02-28',\n",
       " '2021-03-01',\n",
       " '2021-03-02',\n",
       " '2021-03-03',\n",
       " '2021-03-04']"
      ]
     },
     "execution_count": 23,
     "metadata": {},
     "output_type": "execute_result"
    }
   ],
   "source": [
    "def getBetweenDay(begin_date,end_date):\n",
    "    date_list = []\n",
    "    begin_date = datetime.strptime(begin_date, \"%Y-%m-%d\")\n",
    "    end_date = datetime.strptime(end_date, \"%Y-%m-%d\")\n",
    "    while begin_date <= end_date:\n",
    "        date_str = begin_date.strftime(\"%Y-%m-%d\")\n",
    "        date_list.append(date_str)\n",
    "        begin_date += timedelta(days=1)\n",
    "    return date_list\n",
    "getBetweenDay('2021-02-23', '2021-03-04')"
   ]
  },
  {
   "cell_type": "code",
   "execution_count": null,
   "metadata": {},
   "outputs": [],
   "source": []
  }
 ],
 "metadata": {
  "kernelspec": {
   "display_name": "Python 3",
   "language": "python",
   "name": "python3"
  },
  "language_info": {
   "codemirror_mode": {
    "name": "ipython",
    "version": 3
   },
   "file_extension": ".py",
   "mimetype": "text/x-python",
   "name": "python",
   "nbconvert_exporter": "python",
   "pygments_lexer": "ipython3",
   "version": "3.7.3"
  }
 },
 "nbformat": 4,
 "nbformat_minor": 2
}
