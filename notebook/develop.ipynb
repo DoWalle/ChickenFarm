{
 "cells": [
  {
   "cell_type": "code",
   "execution_count": 1,
   "metadata": {},
   "outputs": [],
   "source": [
    "from apollo.src.model_db.tbl_total_for_field import TotalForField\n",
    "from apollo.src.model_db.tbl_depository import DepositoryTable\n",
    "from apollo.src.model_prof.fund_types import Filed"
   ]
  },
  {
   "cell_type": "code",
   "execution_count": 2,
   "metadata": {},
   "outputs": [
    {
     "data": {
      "text/plain": [
       "['ENERGY',\n",
       " 'SEMI',\n",
       " 'METALS',\n",
       " 'MEDICAL',\n",
       " 'SPIRIT',\n",
       " 'HK',\n",
       " 'US',\n",
       " 'BLUE',\n",
       " 'FINANCE']"
      ]
     },
     "execution_count": 2,
     "metadata": {},
     "output_type": "execute_result"
    }
   ],
   "source": [
    "Filed().get_fileds()"
   ]
  },
  {
   "cell_type": "code",
   "execution_count": null,
   "metadata": {},
   "outputs": [],
   "source": [
    "fileds = Filed().get_fileds()\n",
    "for filed in fileds:\n",
    "    "
   ]
  }
 ],
 "metadata": {
  "kernelspec": {
   "display_name": "Python 3",
   "language": "python",
   "name": "python3"
  },
  "language_info": {
   "codemirror_mode": {
    "name": "ipython",
    "version": 3
   },
   "file_extension": ".py",
   "mimetype": "text/x-python",
   "name": "python",
   "nbconvert_exporter": "python",
   "pygments_lexer": "ipython3",
   "version": "3.7.3"
  }
 },
 "nbformat": 4,
 "nbformat_minor": 2
}
