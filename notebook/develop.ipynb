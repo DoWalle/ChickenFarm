{
 "cells": [
  {
   "cell_type": "code",
   "execution_count": 1,
   "metadata": {},
   "outputs": [],
   "source": [
    "from chinese_calendar import is_workday\n",
    "from datetime import datetime\n",
    "\n",
    "from apollo.src.model_db.tbl_total_for_field import TotalForField\n",
    "from apollo.src.model_db.tbl_depository import DepositoryTable\n",
    "from apollo.src.model_prof.fund_types import Filed\n",
    "\n",
    "from apollo.src.service.aip_service import invest_week \n"
   ]
  },
  {
   "cell_type": "code",
   "execution_count": 10,
   "metadata": {},
   "outputs": [
    {
     "name": "stderr",
     "output_type": "stream",
     "text": [
      "2021-08-10 22:02:03 - aip_service.py - 29 - INFO: 易方达蓝筹精选混合\n"
     ]
    },
    {
     "name": "stdout",
     "output_type": "stream",
     "text": [
      "2020-08-10 00:00:00 2021-08-06 00:00:00\n"
     ]
    },
    {
     "ename": "NameError",
     "evalue": "name 'exit' is not defined",
     "output_type": "error",
     "traceback": [
      "\u001b[0;31m---------------------------------------------------------------------------\u001b[0m",
      "\u001b[0;31mNameError\u001b[0m                                 Traceback (most recent call last)",
      "\u001b[0;32m<ipython-input-10-f5036ce70019>\u001b[0m in \u001b[0;36m<module>\u001b[0;34m\u001b[0m\n\u001b[0;32m----> 1\u001b[0;31m \u001b[0minvest_week\u001b[0m\u001b[0;34m(\u001b[0m\u001b[0;34m'005827'\u001b[0m\u001b[0;34m,\u001b[0m \u001b[0;34m'2020-08-08'\u001b[0m\u001b[0;34m,\u001b[0m \u001b[0;34m'2021-08-08'\u001b[0m\u001b[0;34m,\u001b[0m \u001b[0;36m100\u001b[0m\u001b[0;34m)\u001b[0m\u001b[0;34m\u001b[0m\u001b[0;34m\u001b[0m\u001b[0m\n\u001b[0m",
      "\u001b[0;32m~/Desktop/apollo/src/service/aip_service.py\u001b[0m in \u001b[0;36minvest_week\u001b[0;34m(code, start, end, amount)\u001b[0m\n\u001b[1;32m     39\u001b[0m \u001b[0;34m\u001b[0m\u001b[0m\n\u001b[1;32m     40\u001b[0m     \u001b[0mprint\u001b[0m\u001b[0;34m(\u001b[0m\u001b[0mstart\u001b[0m\u001b[0;34m,\u001b[0m \u001b[0mend\u001b[0m\u001b[0;34m)\u001b[0m\u001b[0;34m\u001b[0m\u001b[0;34m\u001b[0m\u001b[0m\n\u001b[0;32m---> 41\u001b[0;31m     \u001b[0mexit\u001b[0m\u001b[0;34m(\u001b[0m\u001b[0;36m0\u001b[0m\u001b[0;34m)\u001b[0m\u001b[0;34m\u001b[0m\u001b[0;34m\u001b[0m\u001b[0m\n\u001b[0m\u001b[1;32m     42\u001b[0m \u001b[0;34m\u001b[0m\u001b[0m\n\u001b[1;32m     43\u001b[0m \u001b[0;34m\u001b[0m\u001b[0m\n",
      "\u001b[0;31mNameError\u001b[0m: name 'exit' is not defined"
     ]
    }
   ],
   "source": [
    "invest_week('005827', '2020-08-08', '2021-08-08', 100)"
   ]
  },
  {
   "cell_type": "code",
   "execution_count": 3,
   "metadata": {},
   "outputs": [
    {
     "name": "stdout",
     "output_type": "stream",
     "text": [
      "2021-08-13 00:00:00\n",
      "True\n"
     ]
    }
   ],
   "source": [
    "# 得到当前日期是否为股票交易日\n",
    "def is_trade_day(date):\n",
    "    if is_workday(date):\n",
    "        if date.isoweekday() < 6:\n",
    "            return True\n",
    "    return False\n",
    " \n",
    " \n",
    "date = '2021-08-13'\n",
    "date = datetime.strptime(date, '%Y-%m-%d')\n",
    "print(date)\n",
    " \n",
    "print(is_trade_day(date))"
   ]
  },
  {
   "cell_type": "code",
   "execution_count": 2,
   "metadata": {},
   "outputs": [
    {
     "data": {
      "text/plain": [
       "['ENERGY',\n",
       " 'SEMI',\n",
       " 'METALS',\n",
       " 'MEDICAL',\n",
       " 'SPIRIT',\n",
       " 'HK',\n",
       " 'US',\n",
       " 'BLUE',\n",
       " 'FINANCE']"
      ]
     },
     "execution_count": 2,
     "metadata": {},
     "output_type": "execute_result"
    }
   ],
   "source": [
    "Filed().get_fileds()"
   ]
  },
  {
   "cell_type": "code",
   "execution_count": null,
   "metadata": {},
   "outputs": [],
   "source": [
    "fileds = Filed().get_fileds()\n",
    "for filed in fileds:\n",
    "    "
   ]
  }
 ],
 "metadata": {
  "kernelspec": {
   "display_name": "Python 3",
   "language": "python",
   "name": "python3"
  },
  "language_info": {
   "codemirror_mode": {
    "name": "ipython",
    "version": 3
   },
   "file_extension": ".py",
   "mimetype": "text/x-python",
   "name": "python",
   "nbconvert_exporter": "python",
   "pygments_lexer": "ipython3",
   "version": "3.7.3"
  }
 },
 "nbformat": 4,
 "nbformat_minor": 2
}
