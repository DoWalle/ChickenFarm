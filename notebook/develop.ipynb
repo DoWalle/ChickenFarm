{
 "cells": [
  {
   "cell_type": "code",
   "execution_count": 1,
   "metadata": {},
   "outputs": [],
   "source": [
    "from chinese_calendar import is_workday\n",
    "from datetime import datetime\n",
    "\n",
    "from apollo.src.model_db.tbl_total_for_field import TotalForField\n",
    "from apollo.src.model_db.tbl_depository import DepositoryTable\n",
    "from apollo.src.model_prof.fund_types import Filed\n",
    "\n",
    "from apollo.src.service.aip_service import invest_week \n"
   ]
  },
  {
   "cell_type": "code",
   "execution_count": 2,
   "metadata": {},
   "outputs": [
    {
     "name": "stderr",
     "output_type": "stream",
     "text": [
      "2021-08-10 22:22:33 - aip_service.py - 29 - INFO: 易方达蓝筹精选混合\n",
      "2021-08-10 22:22:33 - aip_service.py - 39 - WARNING: Repair trading day, start:2020-08-04 00:00:00 end:2021-08-03 00:00:00\n",
      "2021-08-10 22:22:33 - aip_service.py - 59 - INFO: 每周 1 定投，累计投入 4700 单位金额，最终卖出 4483.31 单位金额，收益率 -4.61% ;\n",
      "2021-08-10 22:22:33 - aip_service.py - 59 - INFO: 每周 2 定投，累计投入 4900 单位金额，最终卖出 4662.76 单位金额，收益率 -4.84% ;\n",
      "2021-08-10 22:22:33 - aip_service.py - 59 - INFO: 每周 3 定投，累计投入 4900 单位金额，最终卖出 4663.98 单位金额，收益率 -4.82% ;\n",
      "2021-08-10 22:22:33 - aip_service.py - 59 - INFO: 每周 4 定投，累计投入 4900 单位金额，最终卖出 4628.33 单位金额，收益率 -5.54% ;\n",
      "2021-08-10 22:22:33 - aip_service.py - 59 - INFO: 每周 5 定投，累计投入 4900 单位金额，最终卖出 4655.94 单位金额，收益率 -4.9799999999999995% ;\n"
     ]
    },
    {
     "data": {
      "text/plain": [
       "[-0.0461, -0.0484, -0.0482, -0.0554, -0.0498]"
      ]
     },
     "execution_count": 2,
     "metadata": {},
     "output_type": "execute_result"
    }
   ],
   "source": [
    "res = invest_week('005827', '2020-08-04', '2021-08-03', 100)\n",
    "res"
   ]
  },
  {
   "cell_type": "code",
   "execution_count": 3,
   "metadata": {},
   "outputs": [
    {
     "name": "stdout",
     "output_type": "stream",
     "text": [
      "2021-08-13 00:00:00\n",
      "True\n"
     ]
    }
   ],
   "source": [
    "# 得到当前日期是否为股票交易日\n",
    "def is_trade_day(date):\n",
    "    if is_workday(date):\n",
    "        if date.isoweekday() < 6:\n",
    "            return True\n",
    "    return False\n",
    " \n",
    " \n",
    "date = '2021-08-13'\n",
    "date = datetime.strptime(date, '%Y-%m-%d')\n",
    "print(date)\n",
    " \n",
    "print(is_trade_day(date))"
   ]
  },
  {
   "cell_type": "code",
   "execution_count": 2,
   "metadata": {},
   "outputs": [
    {
     "data": {
      "text/plain": [
       "['ENERGY',\n",
       " 'SEMI',\n",
       " 'METALS',\n",
       " 'MEDICAL',\n",
       " 'SPIRIT',\n",
       " 'HK',\n",
       " 'US',\n",
       " 'BLUE',\n",
       " 'FINANCE']"
      ]
     },
     "execution_count": 2,
     "metadata": {},
     "output_type": "execute_result"
    }
   ],
   "source": [
    "Filed().get_fileds()"
   ]
  },
  {
   "cell_type": "code",
   "execution_count": null,
   "metadata": {},
   "outputs": [],
   "source": [
    "fileds = Filed().get_fileds()\n",
    "for filed in fileds:\n",
    "    "
   ]
  }
 ],
 "metadata": {
  "kernelspec": {
   "display_name": "Python 3",
   "language": "python",
   "name": "python3"
  },
  "language_info": {
   "codemirror_mode": {
    "name": "ipython",
    "version": 3
   },
   "file_extension": ".py",
   "mimetype": "text/x-python",
   "name": "python",
   "nbconvert_exporter": "python",
   "pygments_lexer": "ipython3",
   "version": "3.7.3"
  }
 },
 "nbformat": 4,
 "nbformat_minor": 2
}
