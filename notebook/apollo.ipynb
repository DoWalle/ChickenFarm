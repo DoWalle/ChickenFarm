{
 "cells": [
  {
   "cell_type": "code",
   "execution_count": 1,
   "metadata": {},
   "outputs": [],
   "source": [
    "from apollo.src.prof_model.fund_netvalue import FundNetValue\n",
    "from apollo.src.db_model.tbl_info import InfoTable"
   ]
  },
  {
   "cell_type": "code",
   "execution_count": 8,
   "metadata": {},
   "outputs": [
    {
     "name": "stdout",
     "output_type": "stream",
     "text": [
      "易方达蓝筹精选混合\n"
     ]
    }
   ],
   "source": [
    "code = '005827'\n",
    "start = '2020-08-04'\n",
    "end = '2021-08-03'\n",
    "amount = 100\n",
    "\n",
    "fund_val = FundNetValue(code)\n",
    "price_df = fund_val.read_sql()\n",
    "print(InfoTable.get_by_code(code).name)"
   ]
  },
  {
   "cell_type": "code",
   "execution_count": 9,
   "metadata": {},
   "outputs": [],
   "source": [
    "start_index = price_df.loc[price_df['date'] == start].index[0]\n",
    "end_index = price_df.loc[price_df['date'] == end].index[0]\n",
    "buy_df = price_df.iloc[start_index : end_index] # 待买df"
   ]
  },
  {
   "cell_type": "code",
   "execution_count": 10,
   "metadata": {},
   "outputs": [
    {
     "data": {
      "text/plain": [
       "679    2.5785\n",
       "Name: totvalue, dtype: float64"
      ]
     },
     "execution_count": 10,
     "metadata": {},
     "output_type": "execute_result"
    }
   ],
   "source": [
    "price_df.loc[price_df['date'] == end]['totvalue']"
   ]
  },
  {
   "cell_type": "code",
   "execution_count": 15,
   "metadata": {},
   "outputs": [
    {
     "name": "stdout",
     "output_type": "stream",
     "text": [
      "易方达蓝筹精选混合\n",
      "每周 1 定投，累计投入 4700 单位金额， 最终卖出 4483.31 单位金额， 收益率 -4.61% ;\n",
      "每周 2 定投，累计投入 4900 单位金额， 最终卖出 4662.76 单位金额， 收益率 -4.84% ;\n",
      "每周 3 定投，累计投入 4900 单位金额， 最终卖出 4663.98 单位金额， 收益率 -4.82% ;\n",
      "每周 4 定投，累计投入 4900 单位金额， 最终卖出 4628.33 单位金额， 收益率 -5.54% ;\n",
      "每周 5 定投，累计投入 4900 单位金额， 最终卖出 4655.94 单位金额， 收益率 -4.98% ;\n"
     ]
    }
   ],
   "source": [
    "invest_week(code, start, end, amount)"
   ]
  },
  {
   "cell_type": "code",
   "execution_count": 14,
   "metadata": {},
   "outputs": [],
   "source": [
    "def invest_week(code, start, end, amount):\n",
    "    \"\"\"\n",
    "    每周定投\n",
    "\n",
    "    :param code:    基金代码        str      '005827'\n",
    "    :param start:   定投开始日       str     '2020-08-04'\n",
    "    :param end:     定投结束日       str     '2021-08-03'\n",
    "    :param amount:  每次投资的金额    int     100\n",
    "    :return: \n",
    "    \"\"\"\n",
    "    fund_val = FundNetValue(code)\n",
    "    price_df = fund_val.read_sql()\n",
    "    print(InfoTable.get_by_code(code).name)\n",
    "    \n",
    "    start_index = price_df.loc[price_df['date'] == start].index[0]\n",
    "    end_index = price_df.loc[price_df['date'] == end].index[0]\n",
    "    buy_df = price_df.iloc[start_index : end_index] # 待买df\n",
    "    sell_price = float(price_df.loc[price_df['date'] == end]['totvalue']) # 要卖那天的累计净值\n",
    "    \n",
    "    total = [0] * 5  # 存放对应星期合计买的份数\n",
    "    count = [0] * 5  # 存放对应星期的成本\n",
    "\n",
    "    for index, row in buy_df.iterrows():\n",
    "        weekday = int(row['date'].weekday())\n",
    "        # amount金额除以当日累计净值得到购买基金份额，并计算累计份额\n",
    "        total[weekday] = total[weekday] + amount/float(row['totvalue']) \n",
    "        count[weekday] += amount\n",
    "\n",
    "    for index, unit in enumerate(total):\n",
    "        print(f\"每周 {index+1} 定投，累计投入 {count[index]} 单位金额，\",\n",
    "              f\"最终卖出 {round(sell_price*unit,2)} 单位金额，\",\n",
    "              f\"收益率 {round(100*(sell_price*unit-count[index])/count[index],2)}% ;\")"
   ]
  },
  {
   "cell_type": "code",
   "execution_count": null,
   "metadata": {},
   "outputs": [],
   "source": []
  }
 ],
 "metadata": {
  "kernelspec": {
   "display_name": "Python 3",
   "language": "python",
   "name": "python3"
  },
  "language_info": {
   "codemirror_mode": {
    "name": "ipython",
    "version": 3
   },
   "file_extension": ".py",
   "mimetype": "text/x-python",
   "name": "python",
   "nbconvert_exporter": "python",
   "pygments_lexer": "ipython3",
   "version": "3.7.3"
  }
 },
 "nbformat": 4,
 "nbformat_minor": 2
}
